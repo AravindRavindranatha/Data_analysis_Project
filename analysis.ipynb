{
 "cells": [
  {
   "cell_type": "markdown",
   "metadata": {},
   "source": [
    "# Insights from City Supply and Demand Data"
   ]
  },
  {
   "cell_type": "markdown",
   "metadata": {},
   "source": [
    "## Importing the Required library"
   ]
  },
  {
   "cell_type": "code",
   "execution_count": 9,
   "metadata": {},
   "outputs": [],
   "source": [
    "import pandas as pd\n",
    "import numpy as np\n",
    "import seaborn as sns\n",
    "import matplotlib.pyplot as plt"
   ]
  },
  {
   "cell_type": "code",
   "execution_count": 10,
   "metadata": {},
   "outputs": [],
   "source": [
    "data=pd.read_csv('dataset_1.csv')"
   ]
  },
  {
   "cell_type": "markdown",
   "metadata": {},
   "source": [
    "## Exploratory Data Analysis"
   ]
  },
  {
   "cell_type": "code",
   "execution_count": 11,
   "metadata": {},
   "outputs": [
    {
     "data": {
      "text/html": [
       "<div>\n",
       "<style scoped>\n",
       "    .dataframe tbody tr th:only-of-type {\n",
       "        vertical-align: middle;\n",
       "    }\n",
       "\n",
       "    .dataframe tbody tr th {\n",
       "        vertical-align: top;\n",
       "    }\n",
       "\n",
       "    .dataframe thead th {\n",
       "        text-align: right;\n",
       "    }\n",
       "</style>\n",
       "<table border=\"1\" class=\"dataframe\">\n",
       "  <thead>\n",
       "    <tr style=\"text-align: right;\">\n",
       "      <th></th>\n",
       "      <th>Date</th>\n",
       "      <th>Time (Local)</th>\n",
       "      <th>Eyeballs</th>\n",
       "      <th>Zeroes</th>\n",
       "      <th>Completed Trips</th>\n",
       "      <th>Requests</th>\n",
       "      <th>Unique Drivers</th>\n",
       "    </tr>\n",
       "  </thead>\n",
       "  <tbody>\n",
       "    <tr>\n",
       "      <th>0</th>\n",
       "      <td>10-Sep-12</td>\n",
       "      <td>7</td>\n",
       "      <td>5</td>\n",
       "      <td>0</td>\n",
       "      <td>2</td>\n",
       "      <td>2</td>\n",
       "      <td>9</td>\n",
       "    </tr>\n",
       "    <tr>\n",
       "      <th>1</th>\n",
       "      <td>NaN</td>\n",
       "      <td>8</td>\n",
       "      <td>6</td>\n",
       "      <td>0</td>\n",
       "      <td>2</td>\n",
       "      <td>2</td>\n",
       "      <td>14</td>\n",
       "    </tr>\n",
       "    <tr>\n",
       "      <th>2</th>\n",
       "      <td>NaN</td>\n",
       "      <td>9</td>\n",
       "      <td>8</td>\n",
       "      <td>3</td>\n",
       "      <td>0</td>\n",
       "      <td>0</td>\n",
       "      <td>14</td>\n",
       "    </tr>\n",
       "    <tr>\n",
       "      <th>3</th>\n",
       "      <td>NaN</td>\n",
       "      <td>10</td>\n",
       "      <td>9</td>\n",
       "      <td>2</td>\n",
       "      <td>0</td>\n",
       "      <td>1</td>\n",
       "      <td>14</td>\n",
       "    </tr>\n",
       "    <tr>\n",
       "      <th>4</th>\n",
       "      <td>NaN</td>\n",
       "      <td>11</td>\n",
       "      <td>11</td>\n",
       "      <td>1</td>\n",
       "      <td>4</td>\n",
       "      <td>4</td>\n",
       "      <td>11</td>\n",
       "    </tr>\n",
       "  </tbody>\n",
       "</table>\n",
       "</div>"
      ],
      "text/plain": [
       "        Date  Time (Local)  Eyeballs   Zeroes   Completed Trips   Requests   \\\n",
       "0  10-Sep-12             7          5        0                 2          2   \n",
       "1        NaN             8          6        0                 2          2   \n",
       "2        NaN             9          8        3                 0          0   \n",
       "3        NaN            10          9        2                 0          1   \n",
       "4        NaN            11         11        1                 4          4   \n",
       "\n",
       "   Unique Drivers  \n",
       "0               9  \n",
       "1              14  \n",
       "2              14  \n",
       "3              14  \n",
       "4              11  "
      ]
     },
     "execution_count": 11,
     "metadata": {},
     "output_type": "execute_result"
    }
   ],
   "source": [
    "data.head()"
   ]
  },
  {
   "cell_type": "code",
   "execution_count": 12,
   "metadata": {},
   "outputs": [
    {
     "data": {
      "text/plain": [
       "Index(['Date', 'Time (Local)', 'Eyeballs ', 'Zeroes ', 'Completed Trips ',\n",
       "       'Requests ', 'Unique Drivers'],\n",
       "      dtype='object')"
      ]
     },
     "execution_count": 12,
     "metadata": {},
     "output_type": "execute_result"
    }
   ],
   "source": [
    "data.columns"
   ]
  },
  {
   "cell_type": "code",
   "execution_count": 13,
   "metadata": {},
   "outputs": [],
   "source": [
    "data.rename(columns={'Date':'Date','Time (Local)':'Time (Local)','Eyeballs ':'Eyeballs','Zeroes ':'Zeroes','Completed Trips ':'Completed Trips','Requests ':'Requests'},inplace=True)"
   ]
  },
  {
   "cell_type": "code",
   "execution_count": 14,
   "metadata": {},
   "outputs": [
    {
     "name": "stdout",
     "output_type": "stream",
     "text": [
      "<class 'pandas.core.frame.DataFrame'>\n",
      "RangeIndex: 336 entries, 0 to 335\n",
      "Data columns (total 7 columns):\n",
      " #   Column           Non-Null Count  Dtype \n",
      "---  ------           --------------  ----- \n",
      " 0   Date             15 non-null     object\n",
      " 1   Time (Local)     336 non-null    int64 \n",
      " 2   Eyeballs         336 non-null    int64 \n",
      " 3   Zeroes           336 non-null    int64 \n",
      " 4   Completed Trips  336 non-null    int64 \n",
      " 5   Requests         336 non-null    int64 \n",
      " 6   Unique Drivers   336 non-null    int64 \n",
      "dtypes: int64(6), object(1)\n",
      "memory usage: 18.5+ KB\n"
     ]
    }
   ],
   "source": [
    "data.info()"
   ]
  },
  {
   "cell_type": "code",
   "execution_count": 15,
   "metadata": {},
   "outputs": [],
   "source": [
    "data['Date']=data['Date'].fillna(method='ffill')"
   ]
  },
  {
   "cell_type": "code",
   "execution_count": 16,
   "metadata": {},
   "outputs": [
    {
     "name": "stdout",
     "output_type": "stream",
     "text": [
      "<class 'pandas.core.frame.DataFrame'>\n",
      "RangeIndex: 336 entries, 0 to 335\n",
      "Data columns (total 7 columns):\n",
      " #   Column           Non-Null Count  Dtype \n",
      "---  ------           --------------  ----- \n",
      " 0   Date             336 non-null    object\n",
      " 1   Time (Local)     336 non-null    int64 \n",
      " 2   Eyeballs         336 non-null    int64 \n",
      " 3   Zeroes           336 non-null    int64 \n",
      " 4   Completed Trips  336 non-null    int64 \n",
      " 5   Requests         336 non-null    int64 \n",
      " 6   Unique Drivers   336 non-null    int64 \n",
      "dtypes: int64(6), object(1)\n",
      "memory usage: 18.5+ KB\n"
     ]
    }
   ],
   "source": [
    "data.info()"
   ]
  },
  {
   "cell_type": "markdown",
   "metadata": {},
   "source": [
    "### Combine 'Date' and 'Time' columns into a single datetime column"
   ]
  },
  {
   "cell_type": "code",
   "execution_count": 17,
   "metadata": {},
   "outputs": [],
   "source": [
    "\n",
    "data['Date_Time'] = pd.to_datetime(data['Date'] + ' ' + data['Time (Local)'].astype(str) + ':00:00', format='%d-%b-%y %H:%M:%S')"
   ]
  },
  {
   "cell_type": "code",
   "execution_count": 18,
   "metadata": {},
   "outputs": [
    {
     "data": {
      "text/html": [
       "<div>\n",
       "<style scoped>\n",
       "    .dataframe tbody tr th:only-of-type {\n",
       "        vertical-align: middle;\n",
       "    }\n",
       "\n",
       "    .dataframe tbody tr th {\n",
       "        vertical-align: top;\n",
       "    }\n",
       "\n",
       "    .dataframe thead th {\n",
       "        text-align: right;\n",
       "    }\n",
       "</style>\n",
       "<table border=\"1\" class=\"dataframe\">\n",
       "  <thead>\n",
       "    <tr style=\"text-align: right;\">\n",
       "      <th></th>\n",
       "      <th>Date</th>\n",
       "      <th>Time (Local)</th>\n",
       "      <th>Eyeballs</th>\n",
       "      <th>Zeroes</th>\n",
       "      <th>Completed Trips</th>\n",
       "      <th>Requests</th>\n",
       "      <th>Unique Drivers</th>\n",
       "      <th>Date_Time</th>\n",
       "    </tr>\n",
       "  </thead>\n",
       "  <tbody>\n",
       "    <tr>\n",
       "      <th>0</th>\n",
       "      <td>10-Sep-12</td>\n",
       "      <td>7</td>\n",
       "      <td>5</td>\n",
       "      <td>0</td>\n",
       "      <td>2</td>\n",
       "      <td>2</td>\n",
       "      <td>9</td>\n",
       "      <td>2012-09-10 07:00:00</td>\n",
       "    </tr>\n",
       "    <tr>\n",
       "      <th>1</th>\n",
       "      <td>10-Sep-12</td>\n",
       "      <td>8</td>\n",
       "      <td>6</td>\n",
       "      <td>0</td>\n",
       "      <td>2</td>\n",
       "      <td>2</td>\n",
       "      <td>14</td>\n",
       "      <td>2012-09-10 08:00:00</td>\n",
       "    </tr>\n",
       "    <tr>\n",
       "      <th>2</th>\n",
       "      <td>10-Sep-12</td>\n",
       "      <td>9</td>\n",
       "      <td>8</td>\n",
       "      <td>3</td>\n",
       "      <td>0</td>\n",
       "      <td>0</td>\n",
       "      <td>14</td>\n",
       "      <td>2012-09-10 09:00:00</td>\n",
       "    </tr>\n",
       "    <tr>\n",
       "      <th>3</th>\n",
       "      <td>10-Sep-12</td>\n",
       "      <td>10</td>\n",
       "      <td>9</td>\n",
       "      <td>2</td>\n",
       "      <td>0</td>\n",
       "      <td>1</td>\n",
       "      <td>14</td>\n",
       "      <td>2012-09-10 10:00:00</td>\n",
       "    </tr>\n",
       "    <tr>\n",
       "      <th>4</th>\n",
       "      <td>10-Sep-12</td>\n",
       "      <td>11</td>\n",
       "      <td>11</td>\n",
       "      <td>1</td>\n",
       "      <td>4</td>\n",
       "      <td>4</td>\n",
       "      <td>11</td>\n",
       "      <td>2012-09-10 11:00:00</td>\n",
       "    </tr>\n",
       "  </tbody>\n",
       "</table>\n",
       "</div>"
      ],
      "text/plain": [
       "        Date  Time (Local)  Eyeballs  Zeroes  Completed Trips  Requests  \\\n",
       "0  10-Sep-12             7         5       0                2         2   \n",
       "1  10-Sep-12             8         6       0                2         2   \n",
       "2  10-Sep-12             9         8       3                0         0   \n",
       "3  10-Sep-12            10         9       2                0         1   \n",
       "4  10-Sep-12            11        11       1                4         4   \n",
       "\n",
       "   Unique Drivers           Date_Time  \n",
       "0               9 2012-09-10 07:00:00  \n",
       "1              14 2012-09-10 08:00:00  \n",
       "2              14 2012-09-10 09:00:00  \n",
       "3              14 2012-09-10 10:00:00  \n",
       "4              11 2012-09-10 11:00:00  "
      ]
     },
     "execution_count": 18,
     "metadata": {},
     "output_type": "execute_result"
    }
   ],
   "source": [
    "data.head()"
   ]
  },
  {
   "cell_type": "markdown",
   "metadata": {},
   "source": [
    "### Converting object to Date"
   ]
  },
  {
   "cell_type": "code",
   "execution_count": 19,
   "metadata": {},
   "outputs": [],
   "source": [
    "data['Date']=pd.to_datetime(data['Date'])\n",
    "data['Date_Time']=pd.to_datetime(data['Date_Time'])\n"
   ]
  },
  {
   "cell_type": "markdown",
   "metadata": {},
   "source": [
    "## Assignment "
   ]
  },
  {
   "cell_type": "markdown",
   "metadata": {},
   "source": [
    "### 1. Which date had the most completed trips during the two week period?"
   ]
  },
  {
   "cell_type": "code",
   "execution_count": 20,
   "metadata": {},
   "outputs": [
    {
     "data": {
      "text/plain": [
       "15"
      ]
     },
     "execution_count": 20,
     "metadata": {},
     "output_type": "execute_result"
    }
   ],
   "source": [
    "data['Date'].nunique()"
   ]
  },
  {
   "cell_type": "code",
   "execution_count": 21,
   "metadata": {},
   "outputs": [
    {
     "data": {
      "text/plain": [
       "Index(['Date', 'Time (Local)', 'Eyeballs', 'Zeroes', 'Completed Trips',\n",
       "       'Requests', 'Unique Drivers', 'Date_Time'],\n",
       "      dtype='object')"
      ]
     },
     "execution_count": 21,
     "metadata": {},
     "output_type": "execute_result"
    }
   ],
   "source": [
    "data.columns"
   ]
  },
  {
   "cell_type": "code",
   "execution_count": 22,
   "metadata": {},
   "outputs": [],
   "source": [
    "agg=data.groupby('Date')['Completed Trips'].agg(['sum']).reset_index()"
   ]
  },
  {
   "cell_type": "code",
   "execution_count": 23,
   "metadata": {},
   "outputs": [
    {
     "data": {
      "text/plain": [
       "Index(['Date', 'sum'], dtype='object')"
      ]
     },
     "execution_count": 23,
     "metadata": {},
     "output_type": "execute_result"
    }
   ],
   "source": [
    "agg.columns"
   ]
  },
  {
   "cell_type": "code",
   "execution_count": 24,
   "metadata": {},
   "outputs": [
    {
     "data": {
      "image/png": "[encoded data removed]",
      "text/plain": [
       "<Figure size 1440x360 with 1 Axes>"
      ]
     },
     "metadata": {
      "needs_background": "light"
     },
     "output_type": "display_data"
    }
   ],
   "source": [
    "plt.figure(figsize=(20, 5))  # Set the figure size (optional)\n",
    "sns.set_style(\"whitegrid\")\n",
    "sns.lineplot(data=agg, x='Date', y='sum', marker='o')\n",
    "plt.title('Completed trips for the 2 weeks Period')\n",
    "plt.xlabel('Year')\n",
    "plt.ylabel('Value')\n",
    "for index, row in agg.iterrows():\n",
    "    plt.text(row['Date'], row['sum'], str(row['sum']), ha='right', va='bottom')\n",
    "plt.show()\n"
   ]
  },
  {
   "cell_type": "code",
   "execution_count": 25,
   "metadata": {},
   "outputs": [],
   "source": [
    "most_completed=agg.nlargest(1, 'sum')"
   ]
  },
  {
   "cell_type": "code",
   "execution_count": 26,
   "metadata": {},
   "outputs": [
    {
     "name": "stdout",
     "output_type": "stream",
     "text": [
      "The date that had the most completed trips during the two week period is 12   2012-09-22\n",
      "Name: Date, dtype: datetime64[ns] and total trip was12    248\n",
      "Name: sum, dtype: int64 \n"
     ]
    }
   ],
   "source": [
    "print(f\"The date that had the most completed trips during the two week period is {most_completed['Date']} and total trip was{most_completed['sum']} \")"
   ]
  },
  {
   "cell_type": "markdown",
   "metadata": {},
   "source": [
    "### 2. What was the highest number of completed trips within a 24 hour period?"
   ]
  },
  {
   "cell_type": "code",
   "execution_count": 27,
   "metadata": {},
   "outputs": [],
   "source": [
    "rolling_sum=data.copy()"
   ]
  },
  {
   "cell_type": "code",
   "execution_count": 28,
   "metadata": {},
   "outputs": [
    {
     "data": {
      "text/html": [
       "<div>\n",
       "<style scoped>\n",
       "    .dataframe tbody tr th:only-of-type {\n",
       "        vertical-align: middle;\n",
       "    }\n",
       "\n",
       "    .dataframe tbody tr th {\n",
       "        vertical-align: top;\n",
       "    }\n",
       "\n",
       "    .dataframe thead th {\n",
       "        text-align: right;\n",
       "    }\n",
       "</style>\n",
       "<table border=\"1\" class=\"dataframe\">\n",
       "  <thead>\n",
       "    <tr style=\"text-align: right;\">\n",
       "      <th></th>\n",
       "      <th>Date</th>\n",
       "      <th>Time (Local)</th>\n",
       "      <th>Eyeballs</th>\n",
       "      <th>Zeroes</th>\n",
       "      <th>Completed Trips</th>\n",
       "      <th>Requests</th>\n",
       "      <th>Unique Drivers</th>\n",
       "    </tr>\n",
       "    <tr>\n",
       "      <th>Date_Time</th>\n",
       "      <th></th>\n",
       "      <th></th>\n",
       "      <th></th>\n",
       "      <th></th>\n",
       "      <th></th>\n",
       "      <th></th>\n",
       "      <th></th>\n",
       "    </tr>\n",
       "  </thead>\n",
       "  <tbody>\n",
       "    <tr>\n",
       "      <th>2012-09-10 07:00:00</th>\n",
       "      <td>2012-09-10</td>\n",
       "      <td>7</td>\n",
       "      <td>5</td>\n",
       "      <td>0</td>\n",
       "      <td>2</td>\n",
       "      <td>2</td>\n",
       "      <td>9</td>\n",
       "    </tr>\n",
       "    <tr>\n",
       "      <th>2012-09-10 08:00:00</th>\n",
       "      <td>2012-09-10</td>\n",
       "      <td>8</td>\n",
       "      <td>6</td>\n",
       "      <td>0</td>\n",
       "      <td>2</td>\n",
       "      <td>2</td>\n",
       "      <td>14</td>\n",
       "    </tr>\n",
       "    <tr>\n",
       "      <th>2012-09-10 09:00:00</th>\n",
       "      <td>2012-09-10</td>\n",
       "      <td>9</td>\n",
       "      <td>8</td>\n",
       "      <td>3</td>\n",
       "      <td>0</td>\n",
       "      <td>0</td>\n",
       "      <td>14</td>\n",
       "    </tr>\n",
       "    <tr>\n",
       "      <th>2012-09-10 10:00:00</th>\n",
       "      <td>2012-09-10</td>\n",
       "      <td>10</td>\n",
       "      <td>9</td>\n",
       "      <td>2</td>\n",
       "      <td>0</td>\n",
       "      <td>1</td>\n",
       "      <td>14</td>\n",
       "    </tr>\n",
       "    <tr>\n",
       "      <th>2012-09-10 11:00:00</th>\n",
       "      <td>2012-09-10</td>\n",
       "      <td>11</td>\n",
       "      <td>11</td>\n",
       "      <td>1</td>\n",
       "      <td>4</td>\n",
       "      <td>4</td>\n",
       "      <td>11</td>\n",
       "    </tr>\n",
       "    <tr>\n",
       "      <th>...</th>\n",
       "      <td>...</td>\n",
       "      <td>...</td>\n",
       "      <td>...</td>\n",
       "      <td>...</td>\n",
       "      <td>...</td>\n",
       "      <td>...</td>\n",
       "      <td>...</td>\n",
       "    </tr>\n",
       "    <tr>\n",
       "      <th>2012-09-24 02:00:00</th>\n",
       "      <td>2012-09-24</td>\n",
       "      <td>2</td>\n",
       "      <td>3</td>\n",
       "      <td>3</td>\n",
       "      <td>0</td>\n",
       "      <td>2</td>\n",
       "      <td>0</td>\n",
       "    </tr>\n",
       "    <tr>\n",
       "      <th>2012-09-24 03:00:00</th>\n",
       "      <td>2012-09-24</td>\n",
       "      <td>3</td>\n",
       "      <td>3</td>\n",
       "      <td>3</td>\n",
       "      <td>0</td>\n",
       "      <td>1</td>\n",
       "      <td>0</td>\n",
       "    </tr>\n",
       "    <tr>\n",
       "      <th>2012-09-24 04:00:00</th>\n",
       "      <td>2012-09-24</td>\n",
       "      <td>4</td>\n",
       "      <td>1</td>\n",
       "      <td>1</td>\n",
       "      <td>0</td>\n",
       "      <td>0</td>\n",
       "      <td>0</td>\n",
       "    </tr>\n",
       "    <tr>\n",
       "      <th>2012-09-24 05:00:00</th>\n",
       "      <td>2012-09-24</td>\n",
       "      <td>5</td>\n",
       "      <td>4</td>\n",
       "      <td>2</td>\n",
       "      <td>1</td>\n",
       "      <td>1</td>\n",
       "      <td>3</td>\n",
       "    </tr>\n",
       "    <tr>\n",
       "      <th>2012-09-24 06:00:00</th>\n",
       "      <td>2012-09-24</td>\n",
       "      <td>6</td>\n",
       "      <td>9</td>\n",
       "      <td>1</td>\n",
       "      <td>2</td>\n",
       "      <td>2</td>\n",
       "      <td>7</td>\n",
       "    </tr>\n",
       "  </tbody>\n",
       "</table>\n",
       "<p>336 rows × 7 columns</p>\n",
       "</div>"
      ],
      "text/plain": [
       "                          Date  Time (Local)  Eyeballs  Zeroes  \\\n",
       "Date_Time                                                        \n",
       "2012-09-10 07:00:00 2012-09-10             7         5       0   \n",
       "2012-09-10 08:00:00 2012-09-10             8         6       0   \n",
       "2012-09-10 09:00:00 2012-09-10             9         8       3   \n",
       "2012-09-10 10:00:00 2012-09-10            10         9       2   \n",
       "2012-09-10 11:00:00 2012-09-10            11        11       1   \n",
       "...                        ...           ...       ...     ...   \n",
       "2012-09-24 02:00:00 2012-09-24             2         3       3   \n",
       "2012-09-24 03:00:00 2012-09-24             3         3       3   \n",
       "2012-09-24 04:00:00 2012-09-24             4         1       1   \n",
       "2012-09-24 05:00:00 2012-09-24             5         4       2   \n",
       "2012-09-24 06:00:00 2012-09-24             6         9       1   \n",
       "\n",
       "                     Completed Trips  Requests  Unique Drivers  \n",
       "Date_Time                                                       \n",
       "2012-09-10 07:00:00                2         2               9  \n",
       "2012-09-10 08:00:00                2         2              14  \n",
       "2012-09-10 09:00:00                0         0              14  \n",
       "2012-09-10 10:00:00                0         1              14  \n",
       "2012-09-10 11:00:00                4         4              11  \n",
       "...                              ...       ...             ...  \n",
       "2012-09-24 02:00:00                0         2               0  \n",
       "2012-09-24 03:00:00                0         1               0  \n",
       "2012-09-24 04:00:00                0         0               0  \n",
       "2012-09-24 05:00:00                1         1               3  \n",
       "2012-09-24 06:00:00                2         2               7  \n",
       "\n",
       "[336 rows x 7 columns]"
      ]
     },
     "execution_count": 28,
     "metadata": {},
     "output_type": "execute_result"
    }
   ],
   "source": [
    "rolling_sum.set_index(\"Date_Time\")"
   ]
  },
  {
   "cell_type": "code",
   "execution_count": 29,
   "metadata": {},
   "outputs": [],
   "source": [
    "indexer = pd.api.indexers.FixedForwardWindowIndexer(window_size=24)\n",
    "rolling_sum['Rolling Sum']=rolling_sum['Completed Trips'].rolling(window=indexer, min_periods=1).sum()"
   ]
  },
  {
   "cell_type": "code",
   "execution_count": 30,
   "metadata": {},
   "outputs": [
    {
     "data": {
      "text/html": [
       "<div>\n",
       "<style scoped>\n",
       "    .dataframe tbody tr th:only-of-type {\n",
       "        vertical-align: middle;\n",
       "    }\n",
       "\n",
       "    .dataframe tbody tr th {\n",
       "        vertical-align: top;\n",
       "    }\n",
       "\n",
       "    .dataframe thead th {\n",
       "        text-align: right;\n",
       "    }\n",
       "</style>\n",
       "<table border=\"1\" class=\"dataframe\">\n",
       "  <thead>\n",
       "    <tr style=\"text-align: right;\">\n",
       "      <th></th>\n",
       "      <th>Start_Time</th>\n",
       "      <th>End_Time</th>\n",
       "      <th>Total_Trips</th>\n",
       "    </tr>\n",
       "  </thead>\n",
       "  <tbody>\n",
       "    <tr>\n",
       "      <th>274</th>\n",
       "      <td>2012-09-21 17:00:00</td>\n",
       "      <td>2012-09-22 17:00:00</td>\n",
       "      <td>278.0</td>\n",
       "    </tr>\n",
       "  </tbody>\n",
       "</table>\n",
       "</div>"
      ],
      "text/plain": [
       "             Start_Time            End_Time  Total_Trips\n",
       "274 2012-09-21 17:00:00 2012-09-22 17:00:00        278.0"
      ]
     },
     "execution_count": 30,
     "metadata": {},
     "output_type": "execute_result"
    }
   ],
   "source": [
    "rolling_sum['End_Time'] = rolling_sum['Date_Time'] + pd.Timedelta(hours=24)\n",
    "rolling_sum.rename(columns={'Date_Time':'Start_Time','Rolling Sum':'Total_Trips'},inplace=True)\n",
    "rolling_sum = rolling_sum[['Start_Time', 'End_Time', 'Total_Trips']]\n",
    "rolling_sum.nlargest(1,'Total_Trips')"
   ]
  },
  {
   "cell_type": "markdown",
   "metadata": {},
   "source": [
    "### 3. Which hour of the day had the most requests during the two week period?"
   ]
  },
  {
   "cell_type": "code",
   "execution_count": 31,
   "metadata": {},
   "outputs": [],
   "source": [
    "hour=data.groupby(['Time (Local)'])['Requests'].agg(['sum']).reset_index()"
   ]
  },
  {
   "cell_type": "code",
   "execution_count": 32,
   "metadata": {},
   "outputs": [
    {
     "data": {
      "text/html": [
       "<div>\n",
       "<style scoped>\n",
       "    .dataframe tbody tr th:only-of-type {\n",
       "        vertical-align: middle;\n",
       "    }\n",
       "\n",
       "    .dataframe tbody tr th {\n",
       "        vertical-align: top;\n",
       "    }\n",
       "\n",
       "    .dataframe thead th {\n",
       "        text-align: right;\n",
       "    }\n",
       "</style>\n",
       "<table border=\"1\" class=\"dataframe\">\n",
       "  <thead>\n",
       "    <tr style=\"text-align: right;\">\n",
       "      <th></th>\n",
       "      <th>Time (Local)</th>\n",
       "      <th>sum</th>\n",
       "    </tr>\n",
       "  </thead>\n",
       "  <tbody>\n",
       "    <tr>\n",
       "      <th>23</th>\n",
       "      <td>23</td>\n",
       "      <td>184</td>\n",
       "    </tr>\n",
       "  </tbody>\n",
       "</table>\n",
       "</div>"
      ],
      "text/plain": [
       "    Time (Local)  sum\n",
       "23            23  184"
      ]
     },
     "execution_count": 32,
     "metadata": {},
     "output_type": "execute_result"
    }
   ],
   "source": [
    "hour.nlargest(1,'sum')"
   ]
  },
  {
   "cell_type": "markdown",
   "metadata": {},
   "source": [
    "### 4. What percentages of all zeroes during the two week period occurred on weekend (Friday at 5 pm to Sunday at 3 am)? Tip: The local time value is the start of the hour (e.g. 15 is the hour from 3:00pm - 4:00pm)"
   ]
  },
  {
   "cell_type": "code",
   "execution_count": 33,
   "metadata": {},
   "outputs": [],
   "source": [
    "weekend=data.copy()"
   ]
  },
  {
   "cell_type": "code",
   "execution_count": 34,
   "metadata": {},
   "outputs": [],
   "source": [
    "weekend['Weekday'] = weekend['Date'].dt.weekday"
   ]
  },
  {
   "cell_type": "code",
   "execution_count": 35,
   "metadata": {},
   "outputs": [],
   "source": [
    "def week(a,b):\n",
    "    if (a==4) and (b > 16):\n",
    "        return \"Weekend\"\n",
    "    elif (a==5) and (b >=0):\n",
    "        return \"Weekend\"\n",
    "    elif (a==6) and (b >=0) and (b < 3):\n",
    "        return \"Weekend\"\n",
    "    else:\n",
    "        return \"Weekday\"\n",
    "    "
   ]
  },
  {
   "cell_type": "code",
   "execution_count": 36,
   "metadata": {},
   "outputs": [],
   "source": [
    "weekend['Result'] = weekend.apply(lambda row: week(row['Weekday'], row['Time (Local)']), axis=1)"
   ]
  },
  {
   "cell_type": "code",
   "execution_count": 37,
   "metadata": {},
   "outputs": [
    {
     "data": {
      "text/plain": [
       "'44.86%'"
      ]
     },
     "execution_count": 37,
     "metadata": {},
     "output_type": "execute_result"
    }
   ],
   "source": [
    "str(round(weekend[weekend['Result']==\"Weekend\"]['Zeroes'].sum()/weekend['Zeroes'].sum()*100,2))+str(\"%\")"
   ]
  },
  {
   "cell_type": "markdown",
   "metadata": {},
   "source": [
    "### 5.What is the weighted average ratio of completed trips per driver during the two week period? \n",
    "Tip: \"Weighted average\" means your answer should account for the total trip volume in each hour to determine the most accurate number in whole period."
   ]
  },
  {
   "cell_type": "code",
   "execution_count": 38,
   "metadata": {},
   "outputs": [],
   "source": [
    "Weight=weekend.copy()"
   ]
  },
  {
   "cell_type": "code",
   "execution_count": 39,
   "metadata": {},
   "outputs": [
    {
     "name": "stdout",
     "output_type": "stream",
     "text": [
      "The weighted average ratio of completed trips per driver during the two week period is 82.83%\n"
     ]
    }
   ],
   "source": [
    "Weight['Ratio of Completed Trip']=Weight['Completed Trips']/Weight['Unique Drivers']\n",
    "Weight=Weight[Weight['Unique Drivers']>0]\n",
    "Weight['Weight_Aver']=Weight['Ratio of Completed Trip']*Weight['Completed Trips']\n",
    "Weight_avg_Ratio=str(round((Weight['Weight_Aver'].sum()/Weight['Completed Trips'].sum())*100,2))+str(\"%\")\n",
    "print(f\"The weighted average ratio of completed trips per driver during the two week period is {Weight_avg_Ratio}\")"
   ]
  },
  {
   "cell_type": "markdown",
   "metadata": {},
   "source": [
    "### 6.In drafting a driver schedule in terms of 8 hours shifts, when are the busiest 8 consecutive hours over the two week period in terms of unique requests? A new shift starts in every 8 hours. Assume that a driver will work same shift each day."
   ]
  },
  {
   "cell_type": "code",
   "execution_count": 40,
   "metadata": {},
   "outputs": [],
   "source": [
    "schedule = data.copy()\n",
    "schedule.rename(columns={'Date_Time':'Start_Time'},inplace= True)\n",
    "schedule_eight = schedule.set_index(\"Start_Time\").resample('8H').sum()\n",
    "schedule_eight['Time Group']  = schedule_eight.index.strftime(\"%Y/%m/%d %H:%M\") +  \"-\" + (schedule_eight.index + pd.Timedelta('8 hours')).strftime(\"%Y/%m/%d %H:%M\")"
   ]
  },
  {
   "cell_type": "code",
   "execution_count": 41,
   "metadata": {},
   "outputs": [
    {
     "data": {
      "text/html": [
       "<div>\n",
       "<style scoped>\n",
       "    .dataframe tbody tr th:only-of-type {\n",
       "        vertical-align: middle;\n",
       "    }\n",
       "\n",
       "    .dataframe tbody tr th {\n",
       "        vertical-align: top;\n",
       "    }\n",
       "\n",
       "    .dataframe thead th {\n",
       "        text-align: right;\n",
       "    }\n",
       "</style>\n",
       "<table border=\"1\" class=\"dataframe\">\n",
       "  <thead>\n",
       "    <tr style=\"text-align: right;\">\n",
       "      <th></th>\n",
       "      <th>Start_Time</th>\n",
       "      <th>Time (Local)</th>\n",
       "      <th>Eyeballs</th>\n",
       "      <th>Zeroes</th>\n",
       "      <th>Completed Trips</th>\n",
       "      <th>Requests</th>\n",
       "      <th>Unique Drivers</th>\n",
       "      <th>Time Group</th>\n",
       "    </tr>\n",
       "  </thead>\n",
       "  <tbody>\n",
       "    <tr>\n",
       "      <th>0</th>\n",
       "      <td>2012-09-21 16:00:00</td>\n",
       "      <td>156</td>\n",
       "      <td>515</td>\n",
       "      <td>88</td>\n",
       "      <td>153</td>\n",
       "      <td>192</td>\n",
       "      <td>198</td>\n",
       "      <td>2012/09/21 16:00-2012/09/22 00:00</td>\n",
       "    </tr>\n",
       "  </tbody>\n",
       "</table>\n",
       "</div>"
      ],
      "text/plain": [
       "           Start_Time  Time (Local)  Eyeballs  Zeroes  Completed Trips  \\\n",
       "0 2012-09-21 16:00:00           156       515      88              153   \n",
       "\n",
       "   Requests  Unique Drivers                         Time Group  \n",
       "0       192             198  2012/09/21 16:00-2012/09/22 00:00  "
      ]
     },
     "execution_count": 41,
     "metadata": {},
     "output_type": "execute_result"
    }
   ],
   "source": [
    "schedule_eight.nlargest(1,'Requests').reset_index()"
   ]
  },
  {
   "cell_type": "markdown",
   "metadata": {},
   "source": [
    "### 7.True or False: Driver supply always increases when demand increases during the two week period.\n",
    "\n",
    "Tip: Visualize the data to confirm your answer if needed."
   ]
  },
  {
   "cell_type": "code",
   "execution_count": 42,
   "metadata": {},
   "outputs": [
    {
     "data": {
      "text/plain": [
       "False"
      ]
     },
     "execution_count": 42,
     "metadata": {},
     "output_type": "execute_result"
    }
   ],
   "source": [
    "difference_df = pd.DataFrame(data['Date_Time'])\n",
    "difference_df['request_diff'] = data['Requests'].shift(-1) - data['Requests']\n",
    "difference_df['supply_diff'] = data['Unique Drivers'].shift(-1) - data['Unique Drivers']\n",
    "(difference_df[difference_df['request_diff'] > 0]['supply_diff'] > 0).all().item()"
   ]
  },
  {
   "cell_type": "code",
   "execution_count": 43,
   "metadata": {},
   "outputs": [
    {
     "data": {
      "image/png": "[encoded data removed]",
      "text/plain": [
       "<Figure size 864x576 with 1 Axes>"
      ]
     },
     "metadata": {},
     "output_type": "display_data"
    }
   ],
   "source": [
    "plt.figure(figsize=(12,8))\n",
    "sns.lineplot(data=data[['Requests', 'Unique Drivers', 'Date_Time']])\n",
    "plt.show()"
   ]
  },
  {
   "cell_type": "markdown",
   "metadata": {},
   "source": [
    "### 8.In which 72 hour period is the ratio of Zeroes to Eyeballs the highest?"
   ]
  },
  {
   "cell_type": "code",
   "execution_count": 44,
   "metadata": {},
   "outputs": [],
   "source": [
    "Zero_Eye=data.copy()"
   ]
  },
  {
   "cell_type": "code",
   "execution_count": 45,
   "metadata": {},
   "outputs": [
    {
     "data": {
      "text/html": [
       "<div>\n",
       "<style scoped>\n",
       "    .dataframe tbody tr th:only-of-type {\n",
       "        vertical-align: middle;\n",
       "    }\n",
       "\n",
       "    .dataframe tbody tr th {\n",
       "        vertical-align: top;\n",
       "    }\n",
       "\n",
       "    .dataframe thead th {\n",
       "        text-align: right;\n",
       "    }\n",
       "</style>\n",
       "<table border=\"1\" class=\"dataframe\">\n",
       "  <thead>\n",
       "    <tr style=\"text-align: right;\">\n",
       "      <th></th>\n",
       "      <th>Date</th>\n",
       "      <th>Time (Local)</th>\n",
       "      <th>Eyeballs</th>\n",
       "      <th>Zeroes</th>\n",
       "      <th>Completed Trips</th>\n",
       "      <th>Requests</th>\n",
       "      <th>Unique Drivers</th>\n",
       "    </tr>\n",
       "    <tr>\n",
       "      <th>Date_Time</th>\n",
       "      <th></th>\n",
       "      <th></th>\n",
       "      <th></th>\n",
       "      <th></th>\n",
       "      <th></th>\n",
       "      <th></th>\n",
       "      <th></th>\n",
       "    </tr>\n",
       "  </thead>\n",
       "  <tbody>\n",
       "    <tr>\n",
       "      <th>2012-09-10 07:00:00</th>\n",
       "      <td>2012-09-10</td>\n",
       "      <td>7</td>\n",
       "      <td>5</td>\n",
       "      <td>0</td>\n",
       "      <td>2</td>\n",
       "      <td>2</td>\n",
       "      <td>9</td>\n",
       "    </tr>\n",
       "    <tr>\n",
       "      <th>2012-09-10 08:00:00</th>\n",
       "      <td>2012-09-10</td>\n",
       "      <td>8</td>\n",
       "      <td>6</td>\n",
       "      <td>0</td>\n",
       "      <td>2</td>\n",
       "      <td>2</td>\n",
       "      <td>14</td>\n",
       "    </tr>\n",
       "    <tr>\n",
       "      <th>2012-09-10 09:00:00</th>\n",
       "      <td>2012-09-10</td>\n",
       "      <td>9</td>\n",
       "      <td>8</td>\n",
       "      <td>3</td>\n",
       "      <td>0</td>\n",
       "      <td>0</td>\n",
       "      <td>14</td>\n",
       "    </tr>\n",
       "    <tr>\n",
       "      <th>2012-09-10 10:00:00</th>\n",
       "      <td>2012-09-10</td>\n",
       "      <td>10</td>\n",
       "      <td>9</td>\n",
       "      <td>2</td>\n",
       "      <td>0</td>\n",
       "      <td>1</td>\n",
       "      <td>14</td>\n",
       "    </tr>\n",
       "    <tr>\n",
       "      <th>2012-09-10 11:00:00</th>\n",
       "      <td>2012-09-10</td>\n",
       "      <td>11</td>\n",
       "      <td>11</td>\n",
       "      <td>1</td>\n",
       "      <td>4</td>\n",
       "      <td>4</td>\n",
       "      <td>11</td>\n",
       "    </tr>\n",
       "    <tr>\n",
       "      <th>...</th>\n",
       "      <td>...</td>\n",
       "      <td>...</td>\n",
       "      <td>...</td>\n",
       "      <td>...</td>\n",
       "      <td>...</td>\n",
       "      <td>...</td>\n",
       "      <td>...</td>\n",
       "    </tr>\n",
       "    <tr>\n",
       "      <th>2012-09-24 02:00:00</th>\n",
       "      <td>2012-09-24</td>\n",
       "      <td>2</td>\n",
       "      <td>3</td>\n",
       "      <td>3</td>\n",
       "      <td>0</td>\n",
       "      <td>2</td>\n",
       "      <td>0</td>\n",
       "    </tr>\n",
       "    <tr>\n",
       "      <th>2012-09-24 03:00:00</th>\n",
       "      <td>2012-09-24</td>\n",
       "      <td>3</td>\n",
       "      <td>3</td>\n",
       "      <td>3</td>\n",
       "      <td>0</td>\n",
       "      <td>1</td>\n",
       "      <td>0</td>\n",
       "    </tr>\n",
       "    <tr>\n",
       "      <th>2012-09-24 04:00:00</th>\n",
       "      <td>2012-09-24</td>\n",
       "      <td>4</td>\n",
       "      <td>1</td>\n",
       "      <td>1</td>\n",
       "      <td>0</td>\n",
       "      <td>0</td>\n",
       "      <td>0</td>\n",
       "    </tr>\n",
       "    <tr>\n",
       "      <th>2012-09-24 05:00:00</th>\n",
       "      <td>2012-09-24</td>\n",
       "      <td>5</td>\n",
       "      <td>4</td>\n",
       "      <td>2</td>\n",
       "      <td>1</td>\n",
       "      <td>1</td>\n",
       "      <td>3</td>\n",
       "    </tr>\n",
       "    <tr>\n",
       "      <th>2012-09-24 06:00:00</th>\n",
       "      <td>2012-09-24</td>\n",
       "      <td>6</td>\n",
       "      <td>9</td>\n",
       "      <td>1</td>\n",
       "      <td>2</td>\n",
       "      <td>2</td>\n",
       "      <td>7</td>\n",
       "    </tr>\n",
       "  </tbody>\n",
       "</table>\n",
       "<p>336 rows × 7 columns</p>\n",
       "</div>"
      ],
      "text/plain": [
       "                          Date  Time (Local)  Eyeballs  Zeroes  \\\n",
       "Date_Time                                                        \n",
       "2012-09-10 07:00:00 2012-09-10             7         5       0   \n",
       "2012-09-10 08:00:00 2012-09-10             8         6       0   \n",
       "2012-09-10 09:00:00 2012-09-10             9         8       3   \n",
       "2012-09-10 10:00:00 2012-09-10            10         9       2   \n",
       "2012-09-10 11:00:00 2012-09-10            11        11       1   \n",
       "...                        ...           ...       ...     ...   \n",
       "2012-09-24 02:00:00 2012-09-24             2         3       3   \n",
       "2012-09-24 03:00:00 2012-09-24             3         3       3   \n",
       "2012-09-24 04:00:00 2012-09-24             4         1       1   \n",
       "2012-09-24 05:00:00 2012-09-24             5         4       2   \n",
       "2012-09-24 06:00:00 2012-09-24             6         9       1   \n",
       "\n",
       "                     Completed Trips  Requests  Unique Drivers  \n",
       "Date_Time                                                       \n",
       "2012-09-10 07:00:00                2         2               9  \n",
       "2012-09-10 08:00:00                2         2              14  \n",
       "2012-09-10 09:00:00                0         0              14  \n",
       "2012-09-10 10:00:00                0         1              14  \n",
       "2012-09-10 11:00:00                4         4              11  \n",
       "...                              ...       ...             ...  \n",
       "2012-09-24 02:00:00                0         2               0  \n",
       "2012-09-24 03:00:00                0         1               0  \n",
       "2012-09-24 04:00:00                0         0               0  \n",
       "2012-09-24 05:00:00                1         1               3  \n",
       "2012-09-24 06:00:00                2         2               7  \n",
       "\n",
       "[336 rows x 7 columns]"
      ]
     },
     "execution_count": 45,
     "metadata": {},
     "output_type": "execute_result"
    }
   ],
   "source": [
    "Zero_Eye.set_index(\"Date_Time\")"
   ]
  },
  {
   "cell_type": "code",
   "execution_count": 46,
   "metadata": {},
   "outputs": [],
   "source": [
    "indexer = pd.api.indexers.FixedForwardWindowIndexer(window_size=72)\n",
    "df_agg_three_days = Zero_Eye.set_index(\"Date_Time\").rolling(window=indexer, min_periods=1).sum().reset_index()\n",
    "df_agg_three_days['zeros_to_eyeballs_ratio'] = df_agg_three_days['Zeroes'] / df_agg_three_days['Eyeballs']"
   ]
  },
  {
   "cell_type": "code",
   "execution_count": 53,
   "metadata": {},
   "outputs": [
    {
     "name": "stderr",
     "output_type": "stream",
     "text": [
      "c:\\Users\\aravi\\AppData\\Local\\Programs\\Python\\Python37\\lib\\site-packages\\ipykernel_launcher.py:4: SettingWithCopyWarning: \n",
      "A value is trying to be set on a copy of a slice from a DataFrame.\n",
      "Try using .loc[row_indexer,col_indexer] = value instead\n",
      "\n",
      "See the caveats in the documentation: https://pandas.pydata.org/pandas-docs/stable/user_guide/indexing.html#returning-a-view-versus-a-copy\n",
      "  after removing the cwd from sys.path.\n"
     ]
    },
    {
     "data": {
      "text/html": [
       "<div>\n",
       "<style scoped>\n",
       "    .dataframe tbody tr th:only-of-type {\n",
       "        vertical-align: middle;\n",
       "    }\n",
       "\n",
       "    .dataframe tbody tr th {\n",
       "        vertical-align: top;\n",
       "    }\n",
       "\n",
       "    .dataframe thead th {\n",
       "        text-align: right;\n",
       "    }\n",
       "</style>\n",
       "<table border=\"1\" class=\"dataframe\">\n",
       "  <thead>\n",
       "    <tr style=\"text-align: right;\">\n",
       "      <th></th>\n",
       "      <th>Date_Time</th>\n",
       "      <th>Time (Local)</th>\n",
       "      <th>Eyeballs</th>\n",
       "      <th>Zeroes</th>\n",
       "      <th>Completed Trips</th>\n",
       "      <th>Requests</th>\n",
       "      <th>Unique Drivers</th>\n",
       "      <th>zeros_to_eyeballs_ratio</th>\n",
       "      <th>Time Interval</th>\n",
       "    </tr>\n",
       "  </thead>\n",
       "  <tbody>\n",
       "    <tr>\n",
       "      <th>0</th>\n",
       "      <td>2012-09-10 07:00:00</td>\n",
       "      <td>828.0</td>\n",
       "      <td>956.0</td>\n",
       "      <td>172.0</td>\n",
       "      <td>159.0</td>\n",
       "      <td>211.0</td>\n",
       "      <td>473.0</td>\n",
       "      <td>0.179916</td>\n",
       "      <td>2012/09/10 07:00-2012/09/13 07:00</td>\n",
       "    </tr>\n",
       "    <tr>\n",
       "      <th>1</th>\n",
       "      <td>2012-09-10 08:00:00</td>\n",
       "      <td>828.0</td>\n",
       "      <td>961.0</td>\n",
       "      <td>173.0</td>\n",
       "      <td>158.0</td>\n",
       "      <td>210.0</td>\n",
       "      <td>468.0</td>\n",
       "      <td>0.180021</td>\n",
       "      <td>2012/09/10 08:00-2012/09/13 08:00</td>\n",
       "    </tr>\n",
       "    <tr>\n",
       "      <th>2</th>\n",
       "      <td>2012-09-10 09:00:00</td>\n",
       "      <td>828.0</td>\n",
       "      <td>964.0</td>\n",
       "      <td>174.0</td>\n",
       "      <td>157.0</td>\n",
       "      <td>209.0</td>\n",
       "      <td>462.0</td>\n",
       "      <td>0.180498</td>\n",
       "      <td>2012/09/10 09:00-2012/09/13 09:00</td>\n",
       "    </tr>\n",
       "    <tr>\n",
       "      <th>3</th>\n",
       "      <td>2012-09-10 10:00:00</td>\n",
       "      <td>828.0</td>\n",
       "      <td>970.0</td>\n",
       "      <td>175.0</td>\n",
       "      <td>157.0</td>\n",
       "      <td>209.0</td>\n",
       "      <td>457.0</td>\n",
       "      <td>0.180412</td>\n",
       "      <td>2012/09/10 10:00-2012/09/13 10:00</td>\n",
       "    </tr>\n",
       "    <tr>\n",
       "      <th>4</th>\n",
       "      <td>2012-09-10 11:00:00</td>\n",
       "      <td>828.0</td>\n",
       "      <td>976.0</td>\n",
       "      <td>176.0</td>\n",
       "      <td>159.0</td>\n",
       "      <td>210.0</td>\n",
       "      <td>453.0</td>\n",
       "      <td>0.180328</td>\n",
       "      <td>2012/09/10 11:00-2012/09/13 11:00</td>\n",
       "    </tr>\n",
       "    <tr>\n",
       "      <th>...</th>\n",
       "      <td>...</td>\n",
       "      <td>...</td>\n",
       "      <td>...</td>\n",
       "      <td>...</td>\n",
       "      <td>...</td>\n",
       "      <td>...</td>\n",
       "      <td>...</td>\n",
       "      <td>...</td>\n",
       "      <td>...</td>\n",
       "    </tr>\n",
       "    <tr>\n",
       "      <th>187</th>\n",
       "      <td>2012-09-18 02:00:00</td>\n",
       "      <td>828.0</td>\n",
       "      <td>1035.0</td>\n",
       "      <td>190.0</td>\n",
       "      <td>163.0</td>\n",
       "      <td>231.0</td>\n",
       "      <td>510.0</td>\n",
       "      <td>0.183575</td>\n",
       "      <td>2012/09/18 02:00-2012/09/21 02:00</td>\n",
       "    </tr>\n",
       "    <tr>\n",
       "      <th>188</th>\n",
       "      <td>2012-09-18 03:00:00</td>\n",
       "      <td>828.0</td>\n",
       "      <td>1031.0</td>\n",
       "      <td>181.0</td>\n",
       "      <td>164.0</td>\n",
       "      <td>226.0</td>\n",
       "      <td>515.0</td>\n",
       "      <td>0.175558</td>\n",
       "      <td>2012/09/18 03:00-2012/09/21 03:00</td>\n",
       "    </tr>\n",
       "    <tr>\n",
       "      <th>189</th>\n",
       "      <td>2012-09-18 04:00:00</td>\n",
       "      <td>828.0</td>\n",
       "      <td>1030.0</td>\n",
       "      <td>180.0</td>\n",
       "      <td>164.0</td>\n",
       "      <td>223.0</td>\n",
       "      <td>515.0</td>\n",
       "      <td>0.174757</td>\n",
       "      <td>2012/09/18 04:00-2012/09/21 04:00</td>\n",
       "    </tr>\n",
       "    <tr>\n",
       "      <th>190</th>\n",
       "      <td>2012-09-18 05:00:00</td>\n",
       "      <td>828.0</td>\n",
       "      <td>1029.0</td>\n",
       "      <td>179.0</td>\n",
       "      <td>164.0</td>\n",
       "      <td>223.0</td>\n",
       "      <td>515.0</td>\n",
       "      <td>0.173955</td>\n",
       "      <td>2012/09/18 05:00-2012/09/21 05:00</td>\n",
       "    </tr>\n",
       "    <tr>\n",
       "      <th>191</th>\n",
       "      <td>2012-09-18 06:00:00</td>\n",
       "      <td>828.0</td>\n",
       "      <td>1028.0</td>\n",
       "      <td>180.0</td>\n",
       "      <td>164.0</td>\n",
       "      <td>223.0</td>\n",
       "      <td>515.0</td>\n",
       "      <td>0.175097</td>\n",
       "      <td>2012/09/18 06:00-2012/09/21 06:00</td>\n",
       "    </tr>\n",
       "  </tbody>\n",
       "</table>\n",
       "<p>192 rows × 9 columns</p>\n",
       "</div>"
      ],
      "text/plain": [
       "              Date_Time  Time (Local)  Eyeballs  Zeroes  Completed Trips  \\\n",
       "0   2012-09-10 07:00:00         828.0     956.0   172.0            159.0   \n",
       "1   2012-09-10 08:00:00         828.0     961.0   173.0            158.0   \n",
       "2   2012-09-10 09:00:00         828.0     964.0   174.0            157.0   \n",
       "3   2012-09-10 10:00:00         828.0     970.0   175.0            157.0   \n",
       "4   2012-09-10 11:00:00         828.0     976.0   176.0            159.0   \n",
       "..                  ...           ...       ...     ...              ...   \n",
       "187 2012-09-18 02:00:00         828.0    1035.0   190.0            163.0   \n",
       "188 2012-09-18 03:00:00         828.0    1031.0   181.0            164.0   \n",
       "189 2012-09-18 04:00:00         828.0    1030.0   180.0            164.0   \n",
       "190 2012-09-18 05:00:00         828.0    1029.0   179.0            164.0   \n",
       "191 2012-09-18 06:00:00         828.0    1028.0   180.0            164.0   \n",
       "\n",
       "     Requests  Unique Drivers  zeros_to_eyeballs_ratio  \\\n",
       "0       211.0           473.0                 0.179916   \n",
       "1       210.0           468.0                 0.180021   \n",
       "2       209.0           462.0                 0.180498   \n",
       "3       209.0           457.0                 0.180412   \n",
       "4       210.0           453.0                 0.180328   \n",
       "..        ...             ...                      ...   \n",
       "187     231.0           510.0                 0.183575   \n",
       "188     226.0           515.0                 0.175558   \n",
       "189     223.0           515.0                 0.174757   \n",
       "190     223.0           515.0                 0.173955   \n",
       "191     223.0           515.0                 0.175097   \n",
       "\n",
       "                         Time Interval  \n",
       "0    2012/09/10 07:00-2012/09/13 07:00  \n",
       "1    2012/09/10 08:00-2012/09/13 08:00  \n",
       "2    2012/09/10 09:00-2012/09/13 09:00  \n",
       "3    2012/09/10 10:00-2012/09/13 10:00  \n",
       "4    2012/09/10 11:00-2012/09/13 11:00  \n",
       "..                                 ...  \n",
       "187  2012/09/18 02:00-2012/09/21 02:00  \n",
       "188  2012/09/18 03:00-2012/09/21 03:00  \n",
       "189  2012/09/18 04:00-2012/09/21 04:00  \n",
       "190  2012/09/18 05:00-2012/09/21 05:00  \n",
       "191  2012/09/18 06:00-2012/09/21 06:00  \n",
       "\n",
       "[192 rows x 9 columns]"
      ]
     },
     "execution_count": 53,
     "metadata": {},
     "output_type": "execute_result"
    }
   ],
   "source": [
    "df_agg_three_days = df_agg_three_days[df_agg_three_days['Date_Time'] <= (df_agg_three_days['Date_Time'].max() - pd.Timedelta(days=3))]\n",
    "\n",
    "time_format = \"%Y/%m/%d %H:%M\"\n",
    "df_agg_three_days['Time Interval']  = df_agg_three_days['Date_Time'].dt.strftime(time_format) +  \"-\" + (df_agg_three_days['Date_Time'] + pd.Timedelta('3 days')).dt.strftime(time_format)\n",
    "df_agg_three_days\n"
   ]
  },
  {
   "cell_type": "code",
   "execution_count": 54,
   "metadata": {},
   "outputs": [
    {
     "data": {
      "text/plain": [
       "118    0.292977\n",
       "Name: zeros_to_eyeballs_ratio, dtype: float64"
      ]
     },
     "execution_count": 54,
     "metadata": {},
     "output_type": "execute_result"
    }
   ],
   "source": [
    "df_agg_three_days.nlargest(1, 'zeros_to_eyeballs_ratio')['zeros_to_eyeballs_ratio']\n"
   ]
  },
  {
   "cell_type": "code",
   "execution_count": 55,
   "metadata": {},
   "outputs": [
    {
     "data": {
      "text/plain": [
       "118    2012/09/15 05:00-2012/09/18 05:00\n",
       "Name: Time Interval, dtype: object"
      ]
     },
     "execution_count": 55,
     "metadata": {},
     "output_type": "execute_result"
    }
   ],
   "source": [
    "df_agg_three_days.nlargest(1, 'zeros_to_eyeballs_ratio')['Time Interval']\n"
   ]
  },
  {
   "cell_type": "markdown",
   "metadata": {},
   "source": [
    "### 9.If you could add 5 drivers to any single hour of every day during the two week period, which hour should you add them to?"
   ]
  },
  {
   "cell_type": "code",
   "execution_count": 57,
   "metadata": {},
   "outputs": [
    {
     "data": {
      "text/html": [
       "<div>\n",
       "<style scoped>\n",
       "    .dataframe tbody tr th:only-of-type {\n",
       "        vertical-align: middle;\n",
       "    }\n",
       "\n",
       "    .dataframe tbody tr th {\n",
       "        vertical-align: top;\n",
       "    }\n",
       "\n",
       "    .dataframe thead th {\n",
       "        text-align: right;\n",
       "    }\n",
       "</style>\n",
       "<table border=\"1\" class=\"dataframe\">\n",
       "  <thead>\n",
       "    <tr style=\"text-align: right;\">\n",
       "      <th></th>\n",
       "      <th>Time (Local)</th>\n",
       "      <th>Eyeballs</th>\n",
       "      <th>Zeroes</th>\n",
       "      <th>Completed Trips</th>\n",
       "      <th>Requests</th>\n",
       "      <th>Unique Drivers</th>\n",
       "      <th>eyeball_to_driver_ratio</th>\n",
       "    </tr>\n",
       "  </thead>\n",
       "  <tbody>\n",
       "    <tr>\n",
       "      <th>23</th>\n",
       "      <td>23</td>\n",
       "      <td>488</td>\n",
       "      <td>193</td>\n",
       "      <td>126</td>\n",
       "      <td>184</td>\n",
       "      <td>119</td>\n",
       "      <td>4.10084</td>\n",
       "    </tr>\n",
       "  </tbody>\n",
       "</table>\n",
       "</div>"
      ],
      "text/plain": [
       "    Time (Local)  Eyeballs  Zeroes  Completed Trips  Requests  Unique Drivers  \\\n",
       "23            23       488     193              126       184             119   \n",
       "\n",
       "    eyeball_to_driver_ratio  \n",
       "23                  4.10084  "
      ]
     },
     "execution_count": 57,
     "metadata": {},
     "output_type": "execute_result"
    }
   ],
   "source": [
    "df_agg_time = data.groupby('Time (Local)').sum().reset_index()\n",
    "df_agg_time['eyeball_to_driver_ratio'] = df_agg_time['Eyeballs'] / df_agg_time['Unique Drivers'] \n",
    "df_agg_time.nlargest(1, 'eyeball_to_driver_ratio')"
   ]
  },
  {
   "cell_type": "code",
   "execution_count": 58,
   "metadata": {},
   "outputs": [
    {
     "data": {
      "text/plain": [
       "23    23\n",
       "Name: Time (Local), dtype: int64"
      ]
     },
     "execution_count": 58,
     "metadata": {},
     "output_type": "execute_result"
    }
   ],
   "source": [
    "df_agg_time.nlargest(1, 'eyeball_to_driver_ratio')['Time (Local)']"
   ]
  },
  {
   "cell_type": "markdown",
   "metadata": {},
   "source": [
    "### 10.True or False: There is exactly two weeks of data in this analysis"
   ]
  },
  {
   "cell_type": "code",
   "execution_count": 59,
   "metadata": {},
   "outputs": [
    {
     "data": {
      "text/plain": [
       "Timedelta('13 days 23:00:00')"
      ]
     },
     "execution_count": 59,
     "metadata": {},
     "output_type": "execute_result"
    }
   ],
   "source": [
    "\n",
    "(data['Date_Time'][data.shape[0]-1]-data['Date_Time'][0])"
   ]
  },
  {
   "cell_type": "code",
   "execution_count": 60,
   "metadata": {},
   "outputs": [
    {
     "data": {
      "text/plain": [
       "False"
      ]
     },
     "execution_count": 60,
     "metadata": {},
     "output_type": "execute_result"
    }
   ],
   "source": [
    "pd.Timedelta('14 days') == data['Date_Time'][data.shape[0]-1]-data['Date_Time'][0]"
   ]
  },
  {
   "cell_type": "code",
   "execution_count": 61,
   "metadata": {},
   "outputs": [
    {
     "data": {
      "text/plain": [
       "True"
      ]
     },
     "execution_count": 61,
     "metadata": {},
     "output_type": "execute_result"
    }
   ],
   "source": [
    "pd.Timedelta('14 days') > data['Date_Time'][data.shape[0]-1]-data['Date_Time'][0]"
   ]
  },
  {
   "cell_type": "markdown",
   "metadata": {},
   "source": [
    "### 11.Looking at the data from all two weeks, which time might make the most sense to consider a true \"end day\" instead of midnight? (i.e when are supply and demand at both their natural minimums)\n",
    "\n",
    "Tip: Visualize the data to confirm your answer if needed."
   ]
  },
  {
   "cell_type": "code",
   "execution_count": 63,
   "metadata": {},
   "outputs": [
    {
     "data": {
      "text/html": [
       "<div>\n",
       "<style scoped>\n",
       "    .dataframe tbody tr th:only-of-type {\n",
       "        vertical-align: middle;\n",
       "    }\n",
       "\n",
       "    .dataframe tbody tr th {\n",
       "        vertical-align: top;\n",
       "    }\n",
       "\n",
       "    .dataframe thead th {\n",
       "        text-align: right;\n",
       "    }\n",
       "</style>\n",
       "<table border=\"1\" class=\"dataframe\">\n",
       "  <thead>\n",
       "    <tr style=\"text-align: right;\">\n",
       "      <th></th>\n",
       "      <th>Date</th>\n",
       "      <th>min_supply_per_day</th>\n",
       "      <th>min_demand_per_day</th>\n",
       "    </tr>\n",
       "  </thead>\n",
       "  <tbody>\n",
       "    <tr>\n",
       "      <th>0</th>\n",
       "      <td>2012-09-10</td>\n",
       "      <td>3</td>\n",
       "      <td>0</td>\n",
       "    </tr>\n",
       "    <tr>\n",
       "      <th>1</th>\n",
       "      <td>2012-09-11</td>\n",
       "      <td>0</td>\n",
       "      <td>0</td>\n",
       "    </tr>\n",
       "    <tr>\n",
       "      <th>2</th>\n",
       "      <td>2012-09-12</td>\n",
       "      <td>0</td>\n",
       "      <td>0</td>\n",
       "    </tr>\n",
       "    <tr>\n",
       "      <th>3</th>\n",
       "      <td>2012-09-13</td>\n",
       "      <td>0</td>\n",
       "      <td>0</td>\n",
       "    </tr>\n",
       "    <tr>\n",
       "      <th>4</th>\n",
       "      <td>2012-09-14</td>\n",
       "      <td>0</td>\n",
       "      <td>1</td>\n",
       "    </tr>\n",
       "    <tr>\n",
       "      <th>5</th>\n",
       "      <td>2012-09-15</td>\n",
       "      <td>0</td>\n",
       "      <td>0</td>\n",
       "    </tr>\n",
       "    <tr>\n",
       "      <th>6</th>\n",
       "      <td>2012-09-16</td>\n",
       "      <td>0</td>\n",
       "      <td>0</td>\n",
       "    </tr>\n",
       "    <tr>\n",
       "      <th>7</th>\n",
       "      <td>2012-09-17</td>\n",
       "      <td>0</td>\n",
       "      <td>0</td>\n",
       "    </tr>\n",
       "    <tr>\n",
       "      <th>8</th>\n",
       "      <td>2012-09-18</td>\n",
       "      <td>0</td>\n",
       "      <td>0</td>\n",
       "    </tr>\n",
       "    <tr>\n",
       "      <th>9</th>\n",
       "      <td>2012-09-19</td>\n",
       "      <td>0</td>\n",
       "      <td>0</td>\n",
       "    </tr>\n",
       "    <tr>\n",
       "      <th>10</th>\n",
       "      <td>2012-09-20</td>\n",
       "      <td>0</td>\n",
       "      <td>0</td>\n",
       "    </tr>\n",
       "    <tr>\n",
       "      <th>11</th>\n",
       "      <td>2012-09-21</td>\n",
       "      <td>0</td>\n",
       "      <td>0</td>\n",
       "    </tr>\n",
       "    <tr>\n",
       "      <th>12</th>\n",
       "      <td>2012-09-22</td>\n",
       "      <td>0</td>\n",
       "      <td>0</td>\n",
       "    </tr>\n",
       "    <tr>\n",
       "      <th>13</th>\n",
       "      <td>2012-09-23</td>\n",
       "      <td>0</td>\n",
       "      <td>0</td>\n",
       "    </tr>\n",
       "    <tr>\n",
       "      <th>14</th>\n",
       "      <td>2012-09-24</td>\n",
       "      <td>0</td>\n",
       "      <td>0</td>\n",
       "    </tr>\n",
       "  </tbody>\n",
       "</table>\n",
       "</div>"
      ],
      "text/plain": [
       "         Date  min_supply_per_day  min_demand_per_day\n",
       "0  2012-09-10                   3                   0\n",
       "1  2012-09-11                   0                   0\n",
       "2  2012-09-12                   0                   0\n",
       "3  2012-09-13                   0                   0\n",
       "4  2012-09-14                   0                   1\n",
       "5  2012-09-15                   0                   0\n",
       "6  2012-09-16                   0                   0\n",
       "7  2012-09-17                   0                   0\n",
       "8  2012-09-18                   0                   0\n",
       "9  2012-09-19                   0                   0\n",
       "10 2012-09-20                   0                   0\n",
       "11 2012-09-21                   0                   0\n",
       "12 2012-09-22                   0                   0\n",
       "13 2012-09-23                   0                   0\n",
       "14 2012-09-24                   0                   0"
      ]
     },
     "execution_count": 63,
     "metadata": {},
     "output_type": "execute_result"
    }
   ],
   "source": [
    "# find min supply and demand per day\n",
    "df_min_supply_per_day = data.groupby(['Date'])['Unique Drivers'].min().reset_index().rename(columns={'Unique Drivers':'min_supply_per_day'})\n",
    "df_min_demand_per_day = data.groupby(['Date'])['Requests'].min().reset_index().rename(columns={'Requests':'min_demand_per_day'})\n",
    "\n",
    "# merge demand and supply based on date\n",
    "supply_demand = pd.merge(df_min_supply_per_day, df_min_demand_per_day, on=\"Date\")\n",
    "supply_demand"
   ]
  },
  {
   "cell_type": "code",
   "execution_count": 64,
   "metadata": {},
   "outputs": [
    {
     "data": {
      "text/html": [
       "<div>\n",
       "<style scoped>\n",
       "    .dataframe tbody tr th:only-of-type {\n",
       "        vertical-align: middle;\n",
       "    }\n",
       "\n",
       "    .dataframe tbody tr th {\n",
       "        vertical-align: top;\n",
       "    }\n",
       "\n",
       "    .dataframe thead th {\n",
       "        text-align: right;\n",
       "    }\n",
       "</style>\n",
       "<table border=\"1\" class=\"dataframe\">\n",
       "  <thead>\n",
       "    <tr style=\"text-align: right;\">\n",
       "      <th></th>\n",
       "      <th>Date</th>\n",
       "      <th>Time (Local)</th>\n",
       "      <th>Eyeballs</th>\n",
       "      <th>Zeroes</th>\n",
       "      <th>Completed Trips</th>\n",
       "      <th>Requests</th>\n",
       "      <th>Unique Drivers</th>\n",
       "      <th>Date_Time</th>\n",
       "      <th>min_supply_per_day</th>\n",
       "      <th>min_demand_per_day</th>\n",
       "    </tr>\n",
       "  </thead>\n",
       "  <tbody>\n",
       "    <tr>\n",
       "      <th>0</th>\n",
       "      <td>2012-09-10</td>\n",
       "      <td>7</td>\n",
       "      <td>5</td>\n",
       "      <td>0</td>\n",
       "      <td>2</td>\n",
       "      <td>2</td>\n",
       "      <td>9</td>\n",
       "      <td>2012-09-10 07:00:00</td>\n",
       "      <td>3</td>\n",
       "      <td>0</td>\n",
       "    </tr>\n",
       "    <tr>\n",
       "      <th>1</th>\n",
       "      <td>2012-09-10</td>\n",
       "      <td>8</td>\n",
       "      <td>6</td>\n",
       "      <td>0</td>\n",
       "      <td>2</td>\n",
       "      <td>2</td>\n",
       "      <td>14</td>\n",
       "      <td>2012-09-10 08:00:00</td>\n",
       "      <td>3</td>\n",
       "      <td>0</td>\n",
       "    </tr>\n",
       "    <tr>\n",
       "      <th>2</th>\n",
       "      <td>2012-09-10</td>\n",
       "      <td>9</td>\n",
       "      <td>8</td>\n",
       "      <td>3</td>\n",
       "      <td>0</td>\n",
       "      <td>0</td>\n",
       "      <td>14</td>\n",
       "      <td>2012-09-10 09:00:00</td>\n",
       "      <td>3</td>\n",
       "      <td>0</td>\n",
       "    </tr>\n",
       "    <tr>\n",
       "      <th>3</th>\n",
       "      <td>2012-09-10</td>\n",
       "      <td>10</td>\n",
       "      <td>9</td>\n",
       "      <td>2</td>\n",
       "      <td>0</td>\n",
       "      <td>1</td>\n",
       "      <td>14</td>\n",
       "      <td>2012-09-10 10:00:00</td>\n",
       "      <td>3</td>\n",
       "      <td>0</td>\n",
       "    </tr>\n",
       "    <tr>\n",
       "      <th>4</th>\n",
       "      <td>2012-09-10</td>\n",
       "      <td>11</td>\n",
       "      <td>11</td>\n",
       "      <td>1</td>\n",
       "      <td>4</td>\n",
       "      <td>4</td>\n",
       "      <td>11</td>\n",
       "      <td>2012-09-10 11:00:00</td>\n",
       "      <td>3</td>\n",
       "      <td>0</td>\n",
       "    </tr>\n",
       "    <tr>\n",
       "      <th>...</th>\n",
       "      <td>...</td>\n",
       "      <td>...</td>\n",
       "      <td>...</td>\n",
       "      <td>...</td>\n",
       "      <td>...</td>\n",
       "      <td>...</td>\n",
       "      <td>...</td>\n",
       "      <td>...</td>\n",
       "      <td>...</td>\n",
       "      <td>...</td>\n",
       "    </tr>\n",
       "    <tr>\n",
       "      <th>331</th>\n",
       "      <td>2012-09-24</td>\n",
       "      <td>2</td>\n",
       "      <td>3</td>\n",
       "      <td>3</td>\n",
       "      <td>0</td>\n",
       "      <td>2</td>\n",
       "      <td>0</td>\n",
       "      <td>2012-09-24 02:00:00</td>\n",
       "      <td>0</td>\n",
       "      <td>0</td>\n",
       "    </tr>\n",
       "    <tr>\n",
       "      <th>332</th>\n",
       "      <td>2012-09-24</td>\n",
       "      <td>3</td>\n",
       "      <td>3</td>\n",
       "      <td>3</td>\n",
       "      <td>0</td>\n",
       "      <td>1</td>\n",
       "      <td>0</td>\n",
       "      <td>2012-09-24 03:00:00</td>\n",
       "      <td>0</td>\n",
       "      <td>0</td>\n",
       "    </tr>\n",
       "    <tr>\n",
       "      <th>333</th>\n",
       "      <td>2012-09-24</td>\n",
       "      <td>4</td>\n",
       "      <td>1</td>\n",
       "      <td>1</td>\n",
       "      <td>0</td>\n",
       "      <td>0</td>\n",
       "      <td>0</td>\n",
       "      <td>2012-09-24 04:00:00</td>\n",
       "      <td>0</td>\n",
       "      <td>0</td>\n",
       "    </tr>\n",
       "    <tr>\n",
       "      <th>334</th>\n",
       "      <td>2012-09-24</td>\n",
       "      <td>5</td>\n",
       "      <td>4</td>\n",
       "      <td>2</td>\n",
       "      <td>1</td>\n",
       "      <td>1</td>\n",
       "      <td>3</td>\n",
       "      <td>2012-09-24 05:00:00</td>\n",
       "      <td>0</td>\n",
       "      <td>0</td>\n",
       "    </tr>\n",
       "    <tr>\n",
       "      <th>335</th>\n",
       "      <td>2012-09-24</td>\n",
       "      <td>6</td>\n",
       "      <td>9</td>\n",
       "      <td>1</td>\n",
       "      <td>2</td>\n",
       "      <td>2</td>\n",
       "      <td>7</td>\n",
       "      <td>2012-09-24 06:00:00</td>\n",
       "      <td>0</td>\n",
       "      <td>0</td>\n",
       "    </tr>\n",
       "  </tbody>\n",
       "</table>\n",
       "<p>336 rows × 10 columns</p>\n",
       "</div>"
      ],
      "text/plain": [
       "          Date  Time (Local)  Eyeballs  Zeroes  Completed Trips  Requests  \\\n",
       "0   2012-09-10             7         5       0                2         2   \n",
       "1   2012-09-10             8         6       0                2         2   \n",
       "2   2012-09-10             9         8       3                0         0   \n",
       "3   2012-09-10            10         9       2                0         1   \n",
       "4   2012-09-10            11        11       1                4         4   \n",
       "..         ...           ...       ...     ...              ...       ...   \n",
       "331 2012-09-24             2         3       3                0         2   \n",
       "332 2012-09-24             3         3       3                0         1   \n",
       "333 2012-09-24             4         1       1                0         0   \n",
       "334 2012-09-24             5         4       2                1         1   \n",
       "335 2012-09-24             6         9       1                2         2   \n",
       "\n",
       "     Unique Drivers           Date_Time  min_supply_per_day  \\\n",
       "0                 9 2012-09-10 07:00:00                   3   \n",
       "1                14 2012-09-10 08:00:00                   3   \n",
       "2                14 2012-09-10 09:00:00                   3   \n",
       "3                14 2012-09-10 10:00:00                   3   \n",
       "4                11 2012-09-10 11:00:00                   3   \n",
       "..              ...                 ...                 ...   \n",
       "331               0 2012-09-24 02:00:00                   0   \n",
       "332               0 2012-09-24 03:00:00                   0   \n",
       "333               0 2012-09-24 04:00:00                   0   \n",
       "334               3 2012-09-24 05:00:00                   0   \n",
       "335               7 2012-09-24 06:00:00                   0   \n",
       "\n",
       "     min_demand_per_day  \n",
       "0                     0  \n",
       "1                     0  \n",
       "2                     0  \n",
       "3                     0  \n",
       "4                     0  \n",
       "..                  ...  \n",
       "331                   0  \n",
       "332                   0  \n",
       "333                   0  \n",
       "334                   0  \n",
       "335                   0  \n",
       "\n",
       "[336 rows x 10 columns]"
      ]
     },
     "execution_count": 64,
     "metadata": {},
     "output_type": "execute_result"
    }
   ],
   "source": [
    "# merge found min values with initial dataset on Date\n",
    "dataset_w_min_supply_demand = pd.merge(data, supply_demand, on=\"Date\")\n",
    "dataset_w_min_supply_demand"
   ]
  },
  {
   "cell_type": "code",
   "execution_count": 65,
   "metadata": {},
   "outputs": [
    {
     "data": {
      "text/plain": [
       "0    4\n",
       "dtype: int64"
      ]
     },
     "execution_count": 65,
     "metadata": {},
     "output_type": "execute_result"
    }
   ],
   "source": [
    "# check the exact matches with natural minimums\n",
    "min_point = dataset_w_min_supply_demand[(dataset_w_min_supply_demand.min_supply_per_day == dataset_w_min_supply_demand['Unique Drivers']) & \n",
    "                           (dataset_w_min_supply_demand.min_demand_per_day == dataset_w_min_supply_demand['Requests'])]['Time (Local)'].mode()\n",
    "min_point"
   ]
  },
  {
   "cell_type": "code",
   "execution_count": 66,
   "metadata": {},
   "outputs": [
    {
     "data": {
      "text/plain": [
       "4"
      ]
     },
     "execution_count": 66,
     "metadata": {},
     "output_type": "execute_result"
    }
   ],
   "source": [
    "# minimum hour is 4 am\n",
    "min_point[0]"
   ]
  },
  {
   "cell_type": "code",
   "execution_count": 67,
   "metadata": {},
   "outputs": [
    {
     "data": {
      "image/png": "[encoded data removed]",
      "text/plain": [
       "<Figure size 864x576 with 1 Axes>"
      ]
     },
     "metadata": {},
     "output_type": "display_data"
    }
   ],
   "source": [
    "# plot and annotate the minimum hour\n",
    "df_agg_time = data.groupby('Time (Local)').sum().reset_index()\n",
    "min_point_value = df_agg_time['Requests'][min_point[0]]\n",
    "plt.figure(figsize=(12,8))\n",
    "fig = sns.lineplot(data=df_agg_time[['Requests', 'Unique Drivers']], markers=True, dashes=False)\n",
    "fig.set_xticks(df_agg_time['Time (Local)'])\n",
    "plt.annotate('minimum supply/demand', xy=(min_point[0], min_point_value), color='r', fontsize=16)\n",
    "plt.show()"
   ]
  },
  {
   "cell_type": "code",
   "execution_count": null,
   "metadata": {},
   "outputs": [],
   "source": []
  }
 ],
 "metadata": {
  "kernelspec": {
   "display_name": "Python 3.7.9 64-bit",
   "language": "python",
   "name": "python3"
  },
  "language_info": {
   "codemirror_mode": {
    "name": "ipython",
    "version": 3
   },
   "file_extension": ".py",
   "mimetype": "text/x-python",
   "name": "python",
   "nbconvert_exporter": "python",
   "pygments_lexer": "ipython3",
   "version": "3.7.9"
  },
  "orig_nbformat": 4,
  "vscode": {
   "interpreter": {
    "hash": "f475538f88623e2bcc96bc18951a62b708a60cacbcf63aa1b9dfc40493a28441"
   }
  }
 },
 "nbformat": 4,
 "nbformat_minor": 2
}
